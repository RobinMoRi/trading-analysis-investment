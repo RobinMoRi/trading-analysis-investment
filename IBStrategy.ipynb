{
 "cells": [
  {
   "cell_type": "markdown",
   "id": "9df88c4c",
   "metadata": {},
   "source": [
    "# Investment strategy weight by premium/rebate"
   ]
  },
  {
   "cell_type": "code",
   "execution_count": null,
   "id": "f688981d",
   "metadata": {},
   "outputs": [],
   "source": [
    "import numpy as np\n",
    "import pandas as pd\n",
    "import requests\n",
    "import xlsxwriter\n",
    "import math\n",
    "from yahoofinancials import YahooFinancials\n",
    "import lxml.html as lh\n",
    "import lxml.etree as etree\n",
    "from selenium import webdriver\n",
    "from requests.utils import quote\n",
    "import time\n",
    "import re\n",
    "import math\n",
    "import matplotlib.pyplot as plt"
   ]
  },
  {
   "cell_type": "markdown",
   "id": "a1455adf",
   "metadata": {},
   "source": [
    "### Read configuration file"
   ]
  },
  {
   "cell_type": "code",
   "execution_count": null,
   "id": "67a140e0",
   "metadata": {},
   "outputs": [],
   "source": [
    "# Read df and set nan to empty string\n",
    "stocks_df = pd.read_csv('ib_stocks_stockholm.csv')\n",
    "stocks_df.fillna('', inplace=True)\n",
    "\n",
    "# List of stocks\n",
    "stocks_list = stocks_df['Ticker'].tolist()\n",
    "\n",
    "# Get url-ending list\n",
    "url_ending_list = stocks_df['URL_PATH'].tolist()\n",
    "\n",
    "# Get element-name list\n",
    "element_names = stocks_df['ELEMENT_NAME'].tolist()\n",
    "\n",
    "# Comply with format of yahoo finance for swedish stocks\n",
    "stocks_df['Ticker'] = stocks_df['Ticker'].str.replace(' ','-')\n",
    "stocks_df['Ticker'] = stocks_df['Ticker'].astype(str) + '.ST'\n",
    "stocks_list_yf = stocks_df['Ticker'].tolist()"
   ]
  },
  {
   "cell_type": "markdown",
   "id": "90a0b763",
   "metadata": {},
   "source": [
    "### Read current stock price from yahoo financials"
   ]
  },
  {
   "cell_type": "code",
   "execution_count": null,
   "id": "427ed8a3",
   "metadata": {},
   "outputs": [],
   "source": [
    "yahoo_financials_ib = YahooFinancials(stocks_list_yf)\n",
    "current_price = yahoo_financials_ib.get_current_price()\n",
    "current_price"
   ]
  },
  {
   "cell_type": "markdown",
   "id": "6316550b",
   "metadata": {},
   "source": [
    "### Crawl pages to read reported and computed rebate/premium values"
   ]
  },
  {
   "cell_type": "code",
   "execution_count": null,
   "id": "eda79571",
   "metadata": {},
   "outputs": [],
   "source": [
    "driver = webdriver.Firefox()\n",
    "driver.set_page_load_timeout(10)\n",
    "\n",
    "base_url='https://ibindex.se/ibi/#/'\n",
    "html_pages = {}\n",
    "for index, url_ending in enumerate(url_ending_list):\n",
    "    driver.get(f'{base_url}{quote(url_ending)}')\n",
    "    driver.refresh()\n",
    "    time.sleep(4)\n",
    "    html = driver.page_source\n",
    "    html_pages[stocks_list[index]] = html\n",
    "driver.quit()"
   ]
  },
  {
   "cell_type": "markdown",
   "id": "8ed916b5",
   "metadata": {},
   "source": [
    "### Create data structure for calculated and reported rebate/premiums sorted by stocks"
   ]
  },
  {
   "cell_type": "code",
   "execution_count": null,
   "id": "2007b73d",
   "metadata": {
    "tags": []
   },
   "outputs": [],
   "source": [
    "rebate_premium_dict = {}\n",
    "regexp_number = '(\\d{1,2}.\\d{1,2})'\n",
    "regexp_rebate_premium = '(rabatt|premie)'\n",
    "\n",
    "for index, symbol in enumerate(stocks_list):\n",
    "    doc = lh.fromstring(html_pages[symbol])\n",
    "    if(element_names[index] != ''):\n",
    "        rebate_premium_list = doc.xpath(f'//{element_names[index]}//span')\n",
    "    else:\n",
    "        rebate_premium_list = doc.xpath('//app-company-current-rebate-premium//span')\n",
    "    vals = [el.text for el in rebate_premium_list]\n",
    "    if(len(vals) == 6):\n",
    "        val1 = float(re.search(regexp_number, vals[1]).group(1))\n",
    "        val2 = float(re.search(regexp_number, vals[4]).group(1))\n",
    "        valtype1 = re.search(regexp_rebate_premium, vals[2]).group(1)\n",
    "        valtype2 = re.search(regexp_rebate_premium, vals[5]).group(1)\n",
    "    else:\n",
    "        val1 = 0\n",
    "        val2 = 0\n",
    "        valtype1 = 'premium'\n",
    "        valtype2 = 'premium'\n",
    "          \n",
    "    computed_dict = {\n",
    "        'val': val1,\n",
    "        'type': valtype1\n",
    "    }\n",
    "    reported_dict = {\n",
    "        'val': val2,\n",
    "        'type': valtype2\n",
    "    }\n",
    "    rebate_premium_dict[symbol] = {'computed': computed_dict, 'reported': reported_dict}"
   ]
  },
  {
   "cell_type": "markdown",
   "id": "07719aea",
   "metadata": {},
   "source": [
    "### Create dataframe"
   ]
  },
  {
   "cell_type": "code",
   "execution_count": null,
   "id": "39df7736",
   "metadata": {},
   "outputs": [],
   "source": [
    "my_columns = ['Ticker', 'Price', 'Reported Val', 'Reported Type', 'Reported Weight','Reported Position', 'Computed Val', 'Computed Type', 'Computed Weight','Computed Position', 'Rep Buy', 'Comp Buy']\n",
    "final_dataframe = pd.DataFrame(columns = my_columns)\n",
    "\n",
    "for idx, symbol_yf in enumerate(stocks_list_yf):\n",
    "    symbol = stocks_list[idx]\n",
    "    computed_val = rebate_premium_dict[symbol]['computed']['val']\n",
    "    computed_type = rebate_premium_dict[symbol]['computed']['type']\n",
    "    reported_val = rebate_premium_dict[symbol]['reported']['val']\n",
    "    reported_type = rebate_premium_dict[symbol]['reported']['type']\n",
    "    series_list = [symbol, current_price[symbol_yf], reported_val, reported_type, 'N/A', 'N/A', computed_val, computed_type, 'N/A', 'N/A', 'N/A', 'N/A']\n",
    "    panda_series = pd.Series(series_list, index = my_columns)\n",
    "    final_dataframe = final_dataframe.append(panda_series, ignore_index=True)\n",
    "\n",
    "reported_sum = 0\n",
    "computed_sum = 0\n",
    "for index, row in final_dataframe.iterrows():\n",
    "    if(row['Reported Type'] == 'rabatt'):\n",
    "        reported_sum += row['Reported Val']\n",
    "    if(row['Computed Type'] == 'rabatt'):\n",
    "        computed_sum += row['Computed Val']\n",
    "\n",
    "final_dataframe['Reported Weight'] = final_dataframe['Reported Val']/reported_sum\n",
    "final_dataframe.loc[final_dataframe['Reported Type'] == 'premie', 'Reported Weight'] = 0 \n",
    "final_dataframe['Computed Weight'] = final_dataframe['Computed Val']/computed_sum\n",
    "final_dataframe.loc[final_dataframe['Computed Type'] == 'premie', 'Computed Weight'] = 0"
   ]
  },
  {
   "cell_type": "markdown",
   "id": "df20c504",
   "metadata": {},
   "source": [
    "### Input portfolio size"
   ]
  },
  {
   "cell_type": "code",
   "execution_count": null,
   "id": "8fe78ddc",
   "metadata": {},
   "outputs": [],
   "source": [
    "portfolio_size = input(\"Enter the value of your portfolio:\")\n",
    "\n",
    "try:\n",
    "    val = float(portfolio_size)\n",
    "except ValueError:\n",
    "    print(\"That's not a number! \\n Try again:\")\n",
    "    portfolio_size = input(\"Enter the value of your portfolio:\")"
   ]
  },
  {
   "cell_type": "markdown",
   "id": "0670b625",
   "metadata": {},
   "source": [
    "### Compute position to the different stocks"
   ]
  },
  {
   "cell_type": "code",
   "execution_count": null,
   "id": "764ebfb2",
   "metadata": {},
   "outputs": [],
   "source": [
    "final_dataframe['Reported Position'] = final_dataframe['Reported Weight']*val\n",
    "final_dataframe['Computed Position'] = final_dataframe['Computed Weight']*val"
   ]
  },
  {
   "cell_type": "markdown",
   "id": "a31db271",
   "metadata": {},
   "source": [
    "### Create final dataframe"
   ]
  },
  {
   "cell_type": "code",
   "execution_count": null,
   "id": "b89eefc0",
   "metadata": {},
   "outputs": [],
   "source": [
    "def styler(df):\n",
    "    color = 'color: {}'.format\n",
    "    mask = pd.concat([df['Reported Type'].gt('premium')] * df.shape[1], axis=1)\n",
    "    style = np.where(mask, color('green'), color('red'))\n",
    "    return style\n",
    "\n",
    "# Buy\n",
    "final_dataframe['Comp Buy'] = final_dataframe['Computed Position']/final_dataframe['Price']\n",
    "final_dataframe['Comp Buy'] = final_dataframe['Comp Buy'].apply(np.floor)\n",
    "\n",
    "final_dataframe['Rep Buy'] = final_dataframe['Reported Position']/final_dataframe['Price']\n",
    "final_dataframe['Rep Buy'] = final_dataframe['Rep Buy'].apply(np.floor)\n",
    "styled = final_dataframe.style.apply(styler, axis=None)\n",
    "styled\n"
   ]
  },
  {
   "cell_type": "markdown",
   "id": "ae363b8c",
   "metadata": {},
   "source": [
    "### Plot distribution of stocks to buy - Reported Rebate"
   ]
  },
  {
   "cell_type": "code",
   "execution_count": null,
   "id": "934b7e39",
   "metadata": {},
   "outputs": [],
   "source": [
    "labels = []\n",
    "sizes = []\n",
    "stocks_count = 0\n",
    "for index, row in final_dataframe.iterrows():\n",
    "    if(row['Rep Buy'] != 0):\n",
    "        labels.append(row['Ticker'])\n",
    "        sizes.append(row['Rep Buy']*row['Price'])\n",
    "        stocks_count += row['Rep Buy']\n",
    "\n",
    "fig, ax = plt.subplots(figsize=(15, 8), subplot_kw=dict(aspect=\"equal\"))\n",
    "#ax.axis('equal')  # Equal aspect ratio ensures that pie is drawn as a circle.\n",
    "\n",
    "wedges, texts = ax.pie(sizes, wedgeprops=dict(width=0.5), startangle=-40)\n",
    "\n",
    "bbox_props = dict(boxstyle=\"square,pad=0.3\", fc=\"w\", ec=\"k\", lw=0.72)\n",
    "kw = dict(arrowprops=dict(arrowstyle=\"-\"),\n",
    "          bbox=bbox_props, zorder=0, va=\"center\")\n",
    "\n",
    "for i, p in enumerate(wedges):\n",
    "    ang = (p.theta2 - p.theta1)/2. + p.theta1\n",
    "    y = np.sin(np.deg2rad(ang))\n",
    "    x = np.cos(np.deg2rad(ang))\n",
    "    horizontalalignment = {-1: \"right\", 1: \"left\"}[int(np.sign(x))]\n",
    "    connectionstyle = \"angle,angleA=0,angleB={}\".format(ang)\n",
    "    kw[\"arrowprops\"].update({\"connectionstyle\": connectionstyle})\n",
    "    ax.annotate(sizes[i], xy=(x, y), xytext=(1.35*np.sign(x), 1.4*y),\n",
    "                horizontalalignment=horizontalalignment, **kw)\n",
    "\n",
    "ax.legend(wedges, labels, title=\"Stocks\", loc=\"center left\", bbox_to_anchor=(1, 0, 0.5, 1))\n",
    "ax.set_title('Buy proportions')\n",
    "\n",
    "plt.show()\n",
    "\n",
    "data = {'Budget': [val], 'Buy Sum': [sum(sizes)], 'Money left': [val-sum(sizes)], 'Total shares to buy': [stocks_count], 'Company count': [len(sizes)]}\n",
    "print(pd.DataFrame.from_dict(data))"
   ]
  },
  {
   "cell_type": "code",
   "execution_count": null,
   "id": "2130d441",
   "metadata": {},
   "outputs": [],
   "source": []
  }
 ],
 "metadata": {
  "kernelspec": {
   "display_name": "Python 3 (ipykernel)",
   "language": "python",
   "name": "python3"
  },
  "language_info": {
   "codemirror_mode": {
    "name": "ipython",
    "version": 3
   },
   "file_extension": ".py",
   "mimetype": "text/x-python",
   "name": "python",
   "nbconvert_exporter": "python",
   "pygments_lexer": "ipython3",
   "version": "3.8.9"
  }
 },
 "nbformat": 4,
 "nbformat_minor": 5
}
