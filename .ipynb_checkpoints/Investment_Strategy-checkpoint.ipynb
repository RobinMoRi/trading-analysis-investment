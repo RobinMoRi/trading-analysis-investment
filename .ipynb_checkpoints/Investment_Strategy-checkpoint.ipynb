{
 "cells": [
  {
   "cell_type": "markdown",
   "id": "6f54c350",
   "metadata": {},
   "source": [
    "# Investment strategy weight by premium/rebate"
   ]
  },
  {
   "cell_type": "code",
   "execution_count": 16,
   "id": "52b58d79",
   "metadata": {},
   "outputs": [],
   "source": [
    "import numpy as np\n",
    "import pandas as pd\n",
    "import requests\n",
    "import xlsxwriter\n",
    "import math\n",
    "import lxml.html as lh\n",
    "import lxml.etree as etree\n",
    "from selenium import webdriver\n",
    "from requests.utils import quote\n",
    "import time\n",
    "import re\n",
    "import math\n",
    "import matplotlib.pyplot as plt\n",
    "from yahoo_fin.stock_info import get_data\n",
    "from yahoo_fin.stock_info import get_live_price"
   ]
  },
  {
   "cell_type": "markdown",
   "id": "28efd4ed",
   "metadata": {},
   "source": [
    "### Read configuration file"
   ]
  },
  {
   "cell_type": "code",
   "execution_count": 5,
   "id": "6e131aeb",
   "metadata": {},
   "outputs": [
    {
     "name": "stdout",
     "output_type": "stream",
     "text": [
      "['BURE.ST', 'AJA-B.ST', 'CRED-A.ST', 'FASTAT.ST', 'FIRST-B.ST', 'FLAT-B.ST', 'HAV-B.ST', 'INDU-C.ST', 'INVE-B.ST', 'KDEV.ST', 'KINV-B.ST', 'LATO-B.ST', 'LINC.ST', 'LUND-B.ST', 'NAXS.ST', 'NAIG-B.ST', 'SVOL-B.ST', 'TRAC-B.ST', 'VEFAB.ST', 'VNV.ST', 'ORES.ST']\n"
     ]
    }
   ],
   "source": [
    "# Read df and set nan to empty string\n",
    "stocks_df = pd.read_csv('data/ib_stocks_stockholm.csv')\n",
    "stocks_df.fillna('', inplace=True)\n",
    "\n",
    "# List of stocks\n",
    "stocks_list = stocks_df['Ticker'].tolist()\n",
    "\n",
    "# Get url-ending list\n",
    "url_ending_list = stocks_df['URL_PATH'].tolist()\n",
    "\n",
    "# Get element-name list\n",
    "element_names = stocks_df['ELEMENT_NAME'].tolist()\n",
    "\n",
    "# Comply with format of yahoo finance for swedish stocks\n",
    "stocks_df['Ticker'] = stocks_df['Ticker'].str.replace(' ','-')\n",
    "stocks_df['Ticker'] = stocks_df['Ticker'].astype(str) + '.ST'\n",
    "stocks_list_yf = stocks_df['Ticker'].tolist()\n",
    "\n",
    "print(stocks_list_yf)"
   ]
  },
  {
   "cell_type": "markdown",
   "id": "76c8935a",
   "metadata": {},
   "source": [
    "### Read current stock price from yahoo financials"
   ]
  },
  {
   "cell_type": "code",
   "execution_count": 18,
   "id": "01eb49df",
   "metadata": {},
   "outputs": [
    {
     "data": {
      "text/plain": [
       "{'BURE.ST': 275.79998779296875,\n",
       " 'AJA-B.ST': 295.0,\n",
       " 'CRED-A.ST': 94.0,\n",
       " 'FASTAT.ST': 12.9399995803833,\n",
       " 'FIRST-B.ST': 3.8299999237060547,\n",
       " 'FLAT-B.ST': 9.333999633789062,\n",
       " 'HAV-B.ST': 22.25,\n",
       " 'INDU-C.ST': 277.3999938964844,\n",
       " 'INVE-B.ST': 204.14999389648438,\n",
       " 'KDEV.ST': 1.8650000095367432,\n",
       " 'KINV-B.ST': 167.35000610351562,\n",
       " 'LATO-B.ST': 222.3000030517578,\n",
       " 'LINC.ST': 74.30000305175781,\n",
       " 'LUND-B.ST': 486.29998779296875,\n",
       " 'NAXS.ST': 59.70000076293945,\n",
       " 'NAIG-B.ST': 6.998000144958496,\n",
       " 'SVOL-B.ST': 68.5,\n",
       " 'TRAC-B.ST': 232.0,\n",
       " 'VEFAB.ST': 2.2799999713897705,\n",
       " 'VNV.ST': 29.579999923706055,\n",
       " 'ORES.ST': 123.19999694824219}"
      ]
     },
     "execution_count": 18,
     "metadata": {},
     "output_type": "execute_result"
    }
   ],
   "source": [
    "current_price = {}\n",
    "for ticker in stocks_list_yf:\n",
    "    #historical_datas[ticker] = get_data(ticker, index_as_date = True, interval=\"1d\").tail(1)\n",
    "    current_price[ticker] = get_live_price(ticker)\n",
    "historical_datas"
   ]
  },
  {
   "cell_type": "markdown",
   "id": "24e7ff56",
   "metadata": {},
   "source": [
    "### Crawl pages to read reported and computed rebate/premium values"
   ]
  },
  {
   "cell_type": "code",
   "execution_count": 19,
   "id": "252cc4cc",
   "metadata": {},
   "outputs": [],
   "source": [
    "driver = webdriver.Firefox()\n",
    "driver.set_page_load_timeout(10)\n",
    "\n",
    "base_url='https://ibindex.se/ibi/#/'\n",
    "html_pages = {}\n",
    "for index, url_ending in enumerate(url_ending_list):\n",
    "    driver.get(f'{base_url}{quote(url_ending)}')\n",
    "    driver.refresh()\n",
    "    time.sleep(4)\n",
    "    html = driver.page_source\n",
    "    html_pages[stocks_list[index]] = html\n",
    "driver.quit()"
   ]
  },
  {
   "cell_type": "markdown",
   "id": "9461f3b1",
   "metadata": {},
   "source": [
    "### Create data structure for calculated and reported rebate/premiums sorted by stocks"
   ]
  },
  {
   "cell_type": "code",
   "execution_count": 20,
   "id": "513b95dc",
   "metadata": {},
   "outputs": [],
   "source": [
    "rebate_premium_dict = {}\n",
    "regexp_number = '(\\d{1,2}.\\d{1,2})'\n",
    "regexp_rebate_premium = '(rabatt|premie)'\n",
    "\n",
    "for index, symbol in enumerate(stocks_list):\n",
    "    doc = lh.fromstring(html_pages[symbol])\n",
    "    if(element_names[index] != ''):\n",
    "        rebate_premium_list = doc.xpath(f'//{element_names[index]}//span')\n",
    "    else:\n",
    "        rebate_premium_list = doc.xpath('//app-company-current-rebate-premium//span')\n",
    "    vals = [el.text for el in rebate_premium_list]\n",
    "    if(len(vals) == 6):\n",
    "        val1 = float(re.search(regexp_number, vals[1]).group(1))\n",
    "        val2 = float(re.search(regexp_number, vals[4]).group(1))\n",
    "        valtype1 = re.search(regexp_rebate_premium, vals[2]).group(1)\n",
    "        valtype2 = re.search(regexp_rebate_premium, vals[5]).group(1)\n",
    "    else:\n",
    "        val1 = 0\n",
    "        val2 = 0\n",
    "        valtype1 = 'premium'\n",
    "        valtype2 = 'premium'\n",
    "          \n",
    "    computed_dict = {\n",
    "        'val': val1,\n",
    "        'type': valtype1\n",
    "    }\n",
    "    reported_dict = {\n",
    "        'val': val2,\n",
    "        'type': valtype2\n",
    "    }\n",
    "    rebate_premium_dict[symbol] = {'computed': computed_dict, 'reported': reported_dict}"
   ]
  },
  {
   "cell_type": "markdown",
   "id": "8ac1fd6f",
   "metadata": {},
   "source": [
    "### Create dataframe"
   ]
  },
  {
   "cell_type": "code",
   "execution_count": 21,
   "id": "3a6650e6",
   "metadata": {},
   "outputs": [
    {
     "ename": "NameError",
     "evalue": "name 'current_price' is not defined",
     "output_type": "error",
     "traceback": [
      "\u001b[0;31m---------------------------------------------------------------------------\u001b[0m",
      "\u001b[0;31mNameError\u001b[0m                                 Traceback (most recent call last)",
      "Cell \u001b[0;32mIn[21], line 10\u001b[0m\n\u001b[1;32m      8\u001b[0m reported_val \u001b[38;5;241m=\u001b[39m rebate_premium_dict[symbol][\u001b[38;5;124m'\u001b[39m\u001b[38;5;124mreported\u001b[39m\u001b[38;5;124m'\u001b[39m][\u001b[38;5;124m'\u001b[39m\u001b[38;5;124mval\u001b[39m\u001b[38;5;124m'\u001b[39m]\n\u001b[1;32m      9\u001b[0m reported_type \u001b[38;5;241m=\u001b[39m rebate_premium_dict[symbol][\u001b[38;5;124m'\u001b[39m\u001b[38;5;124mreported\u001b[39m\u001b[38;5;124m'\u001b[39m][\u001b[38;5;124m'\u001b[39m\u001b[38;5;124mtype\u001b[39m\u001b[38;5;124m'\u001b[39m]\n\u001b[0;32m---> 10\u001b[0m series_list \u001b[38;5;241m=\u001b[39m [symbol, \u001b[43mcurrent_price\u001b[49m[symbol_yf], reported_val, reported_type, \u001b[38;5;124m'\u001b[39m\u001b[38;5;124mN/A\u001b[39m\u001b[38;5;124m'\u001b[39m, \u001b[38;5;124m'\u001b[39m\u001b[38;5;124mN/A\u001b[39m\u001b[38;5;124m'\u001b[39m, computed_val, computed_type, \u001b[38;5;124m'\u001b[39m\u001b[38;5;124mN/A\u001b[39m\u001b[38;5;124m'\u001b[39m, \u001b[38;5;124m'\u001b[39m\u001b[38;5;124mN/A\u001b[39m\u001b[38;5;124m'\u001b[39m, \u001b[38;5;124m'\u001b[39m\u001b[38;5;124mN/A\u001b[39m\u001b[38;5;124m'\u001b[39m, \u001b[38;5;124m'\u001b[39m\u001b[38;5;124mN/A\u001b[39m\u001b[38;5;124m'\u001b[39m]\n\u001b[1;32m     11\u001b[0m panda_series \u001b[38;5;241m=\u001b[39m pd\u001b[38;5;241m.\u001b[39mSeries(series_list, index \u001b[38;5;241m=\u001b[39m my_columns)\n\u001b[1;32m     12\u001b[0m final_dataframe \u001b[38;5;241m=\u001b[39m final_dataframe\u001b[38;5;241m.\u001b[39mappend(panda_series, ignore_index\u001b[38;5;241m=\u001b[39m\u001b[38;5;28;01mTrue\u001b[39;00m)\n",
      "\u001b[0;31mNameError\u001b[0m: name 'current_price' is not defined"
     ]
    }
   ],
   "source": [
    "my_columns = ['Ticker', 'Price', 'Reported Val', 'Reported Type', 'Reported Weight','Reported Position', 'Computed Val', 'Computed Type', 'Computed Weight','Computed Position', 'Rep Buy', 'Comp Buy']\n",
    "final_dataframe = pd.DataFrame(columns = my_columns)\n",
    "\n",
    "for idx, symbol_yf in enumerate(stocks_list_yf):\n",
    "    symbol = stocks_list[idx]\n",
    "    computed_val = rebate_premium_dict[symbol]['computed']['val']\n",
    "    computed_type = rebate_premium_dict[symbol]['computed']['type']\n",
    "    reported_val = rebate_premium_dict[symbol]['reported']['val']\n",
    "    reported_type = rebate_premium_dict[symbol]['reported']['type']\n",
    "    series_list = [symbol, current_price[symbol_yf], reported_val, reported_type, 'N/A', 'N/A', computed_val, computed_type, 'N/A', 'N/A', 'N/A', 'N/A']\n",
    "    panda_series = pd.Series(series_list, index = my_columns)\n",
    "    final_dataframe = final_dataframe.append(panda_series, ignore_index=True)\n",
    "\n",
    "reported_sum = 0\n",
    "computed_sum = 0\n",
    "for index, row in final_dataframe.iterrows():\n",
    "    if(row['Reported Type'] == 'rabatt'):\n",
    "        reported_sum += row['Reported Val']\n",
    "    if(row['Computed Type'] == 'rabatt'):\n",
    "        computed_sum += row['Computed Val']\n",
    "\n",
    "final_dataframe['Reported Weight'] = final_dataframe['Reported Val']/reported_sum\n",
    "final_dataframe.loc[final_dataframe['Reported Type'] == 'premie', 'Reported Weight'] = 0 \n",
    "final_dataframe['Computed Weight'] = final_dataframe['Computed Val']/computed_sum\n",
    "final_dataframe.loc[final_dataframe['Computed Type'] == 'premie', 'Computed Weight'] = 0\n",
    "final_dataframe"
   ]
  },
  {
   "cell_type": "code",
   "execution_count": null,
   "id": "840c9eb6",
   "metadata": {},
   "outputs": [],
   "source": []
  },
  {
   "cell_type": "code",
   "execution_count": null,
   "id": "8041ee8a",
   "metadata": {},
   "outputs": [],
   "source": []
  }
 ],
 "metadata": {
  "kernelspec": {
   "display_name": "env-investment",
   "language": "python",
   "name": "env-investment"
  },
  "language_info": {
   "codemirror_mode": {
    "name": "ipython",
    "version": 3
   },
   "file_extension": ".py",
   "mimetype": "text/x-python",
   "name": "python",
   "nbconvert_exporter": "python",
   "pygments_lexer": "ipython3",
   "version": "3.8.9"
  }
 },
 "nbformat": 4,
 "nbformat_minor": 5
}
